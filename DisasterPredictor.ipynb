{
  "nbformat": 4,
  "nbformat_minor": 0,
  "metadata": {
    "colab": {
      "provenance": []
    },
    "kernelspec": {
      "name": "python3",
      "display_name": "Python 3"
    },
    "language_info": {
      "name": "python"
    }
  },
  "cells": [
    {
      "cell_type": "code",
      "execution_count": 2,
      "metadata": {
        "colab": {
          "base_uri": "https://localhost:8080/"
        },
        "id": "wWSX4uATlygY",
        "outputId": "bf85ac5d-a638-4c5f-aeb0-2a26671f7d7b"
      },
      "outputs": [
        {
          "output_type": "stream",
          "name": "stdout",
          "text": [
            "Extracted files: ['./extracted_data/sample_submission.csv', './extracted_data/test.csv', './extracted_data/train.csv']\n",
            "Data from ./extracted_data/sample_submission.csv:\n",
            "   id  target\n",
            "0   0       0\n",
            "1   2       0\n",
            "2   3       0\n",
            "3   9       0\n",
            "4  11       0\n",
            "Data from ./extracted_data/test.csv:\n",
            "   id keyword location                                               text\n",
            "0   0     NaN      NaN                 Just happened a terrible car crash\n",
            "1   2     NaN      NaN  Heard about #earthquake is different cities, s...\n",
            "2   3     NaN      NaN  there is a forest fire at spot pond, geese are...\n",
            "3   9     NaN      NaN           Apocalypse lighting. #Spokane #wildfires\n",
            "4  11     NaN      NaN      Typhoon Soudelor kills 28 in China and Taiwan\n",
            "Data from ./extracted_data/train.csv:\n",
            "   id keyword location                                               text  \\\n",
            "0   1     NaN      NaN  Our Deeds are the Reason of this #earthquake M...   \n",
            "1   4     NaN      NaN             Forest fire near La Ronge Sask. Canada   \n",
            "2   5     NaN      NaN  All residents asked to 'shelter in place' are ...   \n",
            "3   6     NaN      NaN  13,000 people receive #wildfires evacuation or...   \n",
            "4   7     NaN      NaN  Just got sent this photo from Ruby #Alaska as ...   \n",
            "\n",
            "   target  \n",
            "0       1  \n",
            "1       1  \n",
            "2       1  \n",
            "3       1  \n",
            "4       1  \n"
          ]
        }
      ],
      "source": [
        "import zipfile\n",
        "import os\n",
        "\n",
        "def unzip_and_prepare(zip_file_path, extract_to='.'):\n",
        "    \"\"\"\n",
        "    Unzips a file and returns a list of extracted file paths.\n",
        "\n",
        "    :param zip_file_path: The path to the zip file.\n",
        "    :param extract_to: The directory where the files will be extracted.\n",
        "    :return: A list of paths to the extracted files.\n",
        "    \"\"\"\n",
        "    extracted_files = []\n",
        "\n",
        "    # Check if the zip file exists\n",
        "    if not os.path.exists(zip_file_path):\n",
        "        raise FileNotFoundError(f\"The zip file {zip_file_path} does not exist.\")\n",
        "\n",
        "    # Unzip the file\n",
        "    with zipfile.ZipFile(zip_file_path, 'r') as zip_ref:\n",
        "        zip_ref.extractall(extract_to)\n",
        "        extracted_files = zip_ref.namelist()\n",
        "\n",
        "    # Return the list of extracted file paths\n",
        "    extracted_file_paths = [os.path.join(extract_to, file) for file in extracted_files]\n",
        "\n",
        "    return extracted_file_paths\n",
        "\n",
        "# Example of reading CSV data from the extracted files\n",
        "import pandas as pd\n",
        "\n",
        "def load_csv(file_path):\n",
        "    \"\"\"\n",
        "    Loads a CSV file into a pandas DataFrame.\n",
        "\n",
        "    :param file_path: The path to the CSV file.\n",
        "    :return: A pandas DataFrame containing the CSV data.\n",
        "    \"\"\"\n",
        "    return pd.read_csv(file_path)\n",
        "\n",
        "\n",
        "# Example usage\n",
        "if __name__ == \"__main__\":\n",
        "    zip_file = 'nlp-getting-started.zip'  # Specify the zip file path\n",
        "    extract_dir = './extracted_data'  # Specify where to extract the files\n",
        "\n",
        "    # Unzip and get list of extracted files\n",
        "    extracted_files = unzip_and_prepare(zip_file, extract_dir)\n",
        "    print(\"Extracted files:\", extracted_files)\n",
        "\n",
        "    # Load data (assuming one of the extracted files is a CSV)\n",
        "    for file in extracted_files:\n",
        "        if file.endswith('.csv'):\n",
        "            df = load_csv(file)\n",
        "            print(f\"Data from {file}:\")\n",
        "            print(df.head())\n"
      ]
    },
    {
      "cell_type": "code",
      "source": [
        "test_data = load_csv(extracted_files[1])\n",
        "train_data = load_csv(extracted_files[2])"
      ],
      "metadata": {
        "id": "xR8cIDbRmWtB"
      },
      "execution_count": 7,
      "outputs": []
    },
    {
      "cell_type": "code",
      "source": [
        "# Analyze the training data\n",
        "print(\"Training data info:\")\n",
        "print(train_data.info())\n",
        "print(\"\\nTraining data description:\")\n",
        "print(train_data.describe())\n",
        "print(\"\\nTraining data shape:\", train_data.shape)\n",
        "print(\"\\nTraining data column names:\", train_data.columns)\n",
        "print(\"\\nNumber of missing values per column:\\n\", train_data.isnull().sum())\n",
        "print(\"\\nValue counts for target variable 'target':\\n\", train_data['target'].value_counts())\n",
        "\n",
        "# You can add more specific analysis based on your needs, for example:\n",
        "# - Explore the distribution of text lengths\n",
        "# - Analyze the frequency of words in the text\n",
        "# - Identify potential outliers or anomalies\n",
        "# - Check for class imbalance in the target variable\n",
        "# - Visualize the data using histograms, scatter plots, etc.\n",
        "\n",
        "# Example: Analyze text length\n",
        "# train_data['text_length'] = train_data['text'].apply(len)\n",
        "# print(\"\\nDistribution of text lengths:\\n\", train_data['text_length'].describe())\n",
        "\n",
        "# Example: Analyze word frequency\n",
        "# from collections import Counter\n",
        "# all_words = ' '.join(train_data['text']).split()\n",
        "# word_counts = Counter(all_words)\n",
        "# print(\"\\nMost common words:\\n\", word_counts.most_common(10))\n"
      ],
      "metadata": {
        "colab": {
          "base_uri": "https://localhost:8080/"
        },
        "id": "a_udIDxNn1d5",
        "outputId": "c8289683-cd43-4cfd-ba01-caa43ceb6f59"
      },
      "execution_count": 10,
      "outputs": [
        {
          "output_type": "stream",
          "name": "stdout",
          "text": [
            "Training data info:\n",
            "<class 'pandas.core.frame.DataFrame'>\n",
            "RangeIndex: 7613 entries, 0 to 7612\n",
            "Data columns (total 5 columns):\n",
            " #   Column    Non-Null Count  Dtype \n",
            "---  ------    --------------  ----- \n",
            " 0   id        7613 non-null   int64 \n",
            " 1   keyword   7552 non-null   object\n",
            " 2   location  5080 non-null   object\n",
            " 3   text      7613 non-null   object\n",
            " 4   target    7613 non-null   int64 \n",
            "dtypes: int64(2), object(3)\n",
            "memory usage: 297.5+ KB\n",
            "None\n",
            "\n",
            "Training data description:\n",
            "                 id      target\n",
            "count   7613.000000  7613.00000\n",
            "mean    5441.934848     0.42966\n",
            "std     3137.116090     0.49506\n",
            "min        1.000000     0.00000\n",
            "25%     2734.000000     0.00000\n",
            "50%     5408.000000     0.00000\n",
            "75%     8146.000000     1.00000\n",
            "max    10873.000000     1.00000\n",
            "\n",
            "Training data shape: (7613, 5)\n",
            "\n",
            "Training data column names: Index(['id', 'keyword', 'location', 'text', 'target'], dtype='object')\n",
            "\n",
            "Number of missing values per column:\n",
            " id             0\n",
            "keyword       61\n",
            "location    2533\n",
            "text           0\n",
            "target         0\n",
            "dtype: int64\n",
            "\n",
            "Value counts for target variable 'target':\n",
            " target\n",
            "0    4342\n",
            "1    3271\n",
            "Name: count, dtype: int64\n"
          ]
        }
      ]
    },
    {
      "cell_type": "code",
      "source": [
        "import pandas as pd\n",
        "import matplotlib.pyplot as plt\n",
        "import seaborn as sns\n",
        "import re\n",
        "\n",
        "# Function to count words in each phrase\n",
        "def count_words(phrase):\n",
        "    # Use regex to split by spaces and remove punctuation\n",
        "    words = re.findall(r'\\b\\w+\\b', phrase)\n",
        "    return len(words)\n",
        "\n",
        "# Assume df is already defined with a 'text' column\n",
        "df['phrase_size'] = df['text'].apply(count_words)\n",
        "\n",
        "# Step 4: Plotting the distribution of phrase sizes\n",
        "plt.figure(figsize=(8, 5))\n",
        "sns.histplot(df['phrase_size'], bins=10, kde=True, color='skyblue')\n",
        "\n",
        "# Adding labels and title\n",
        "plt.xlabel('Number of Words')\n",
        "plt.ylabel('Frequency')\n",
        "plt.title('Distribution of Phrase Sizes (Number of Words)')\n",
        "\n",
        "plt.show()\n"
      ],
      "metadata": {
        "colab": {
          "base_uri": "https://localhost:8080/",
          "height": 487
        },
        "id": "J9KZKU3Ioxc8",
        "outputId": "c2eebedc-bce7-4f97-c0ff-86a1ccaa7858"
      },
      "execution_count": 14,
      "outputs": [
        {
          "output_type": "display_data",
          "data": {
            "text/plain": [
              "<Figure size 800x500 with 1 Axes>"
            ],
            "image/png": "[encoded data removed]"
          },
          "metadata": {}
        }
      ]
    },
    {
      "cell_type": "code",
      "source": [
        "!pip install torch torchvision torchaudio"
      ],
      "metadata": {
        "colab": {
          "base_uri": "https://localhost:8080/"
        },
        "id": "D1W0R3rdnT67",
        "outputId": "88e36f2b-db0a-4146-b6f1-643ec430b104"
      },
      "execution_count": 9,
      "outputs": [
        {
          "output_type": "stream",
          "name": "stdout",
          "text": [
            "Requirement already satisfied: torch in /usr/local/lib/python3.10/dist-packages (2.4.0+cu121)\n",
            "Requirement already satisfied: torchvision in /usr/local/lib/python3.10/dist-packages (0.19.0+cu121)\n",
            "Requirement already satisfied: torchaudio in /usr/local/lib/python3.10/dist-packages (2.4.0+cu121)\n",
            "Requirement already satisfied: filelock in /usr/local/lib/python3.10/dist-packages (from torch) (3.16.0)\n",
            "Requirement already satisfied: typing-extensions>=4.8.0 in /usr/local/lib/python3.10/dist-packages (from torch) (4.12.2)\n",
            "Requirement already satisfied: sympy in /usr/local/lib/python3.10/dist-packages (from torch) (1.13.2)\n",
            "Requirement already satisfied: networkx in /usr/local/lib/python3.10/dist-packages (from torch) (3.3)\n",
            "Requirement already satisfied: jinja2 in /usr/local/lib/python3.10/dist-packages (from torch) (3.1.4)\n",
            "Requirement already satisfied: fsspec in /usr/local/lib/python3.10/dist-packages (from torch) (2024.6.1)\n",
            "Requirement already satisfied: numpy in /usr/local/lib/python3.10/dist-packages (from torchvision) (1.26.4)\n",
            "Requirement already satisfied: pillow!=8.3.*,>=5.3.0 in /usr/local/lib/python3.10/dist-packages (from torchvision) (9.4.0)\n",
            "Requirement already satisfied: MarkupSafe>=2.0 in /usr/local/lib/python3.10/dist-packages (from jinja2->torch) (2.1.5)\n",
            "Requirement already satisfied: mpmath<1.4,>=1.1.0 in /usr/local/lib/python3.10/dist-packages (from sympy->torch) (1.3.0)\n"
          ]
        }
      ]
    },
    {
      "cell_type": "code",
      "source": [
        "# prompt: create me a pytorch model\n",
        "\n",
        "import torch\n",
        "import torch.nn as nn\n",
        "import torch.nn.functional as F\n",
        "\n",
        "class Model(nn.Module):\n",
        "    def __init__(self, vocab_size, embedding_dim, hidden_dim, output_dim):\n",
        "        super(Model, self).__init__()\n",
        "        self.embedding = nn.Embedding(vocab_size, embedding_dim)\n",
        "        self.rnn = nn.LSTM(embedding_dim, hidden_dim, batch_first=True)\n",
        "        self.fc = nn.Linear(hidden_dim, output_dim)\n",
        "\n",
        "    def forward(self, text):\n",
        "        embedded = self.embedding(text)\n",
        "        output, (hidden, cell) = self.rnn(embedded)\n",
        "        hidden = hidden[-1, :, :]  # Take the last hidden state\n",
        "        output = self.fc(hidden)\n",
        "        return output\n",
        "\n",
        "# Example usage:\n",
        "vocab_size = 10000  # Replace with your actual vocabulary size\n",
        "embedding_dim = 128\n",
        "hidden_dim = 256\n",
        "output_dim = 2  # Assuming binary classification (e.g., disaster/not disaster)\n",
        "\n",
        "model = Model(vocab_size, embedding_dim, hidden_dim, output_dim)\n",
        "print(model)\n"
      ],
      "metadata": {
        "id": "50n8HkzgnqK1"
      },
      "execution_count": null,
      "outputs": []
    }
  ]
}